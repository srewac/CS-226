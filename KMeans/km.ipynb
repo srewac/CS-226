{
 "cells": [
  {
   "cell_type": "code",
   "execution_count": 1,
   "metadata": {},
   "outputs": [],
   "source": [
    "import pandas as pd\n",
    "from matplotlib import pyplot as plt\n",
    "import sklearn.datasets\n",
    "\n",
    "from matplotlib import pyplot as plt\n",
    "import sklearn\n",
    "from sklearn.metrics import roc_curve, auc\n",
    "from sklearn.model_selection import train_test_split\n",
    "from sklearn.linear_model import LogisticRegression\n",
    "from sklearn.ensemble import RandomForestClassifier\n",
    "from sklearn.cluster import KMeans\n",
    "df = pd.read_csv(\"VectorsR&T.csv\")"
   ]
  },
  {
   "cell_type": "code",
   "execution_count": 2,
   "metadata": {},
   "outputs": [
    {
     "name": "stderr",
     "output_type": "stream",
     "text": [
      "C:\\Users\\50476\\Anaconda3\\lib\\site-packages\\sklearn\\utils\\deprecation.py:66: DeprecationWarning: Class Imputer is deprecated; Imputer was deprecated in version 0.20 and will be removed in 0.22. Import impute.SimpleImputer from sklearn instead.\n",
      "  warnings.warn(msg, category=DeprecationWarning)\n"
     ]
    },
    {
     "data": {
      "image/png": "[encoded data removed]",
      "text/plain": [
       "<Figure size 432x288 with 1 Axes>"
      ]
     },
     "metadata": {
      "needs_background": "light"
     },
     "output_type": "display_data"
    }
   ],
   "source": [
    "from sklearn.decomposition import PCA\n",
    "from sklearn.manifold import TSNE\n",
    "from sklearn.preprocessing import Imputer\n",
    "df2_49 = Imputer().fit_transform(df.iloc[:,1:10])\n",
    "distortions = []\n",
    "for i in range(1, 30):\n",
    "    km = KMeans(\n",
    "        n_clusters=i, init='random',\n",
    "        n_init=10, max_iter=50,\n",
    "        tol=1e-04, random_state=0\n",
    "    )\n",
    "    km.fit(df2_49)\n",
    "    distortions.append(km.inertia_)\n",
    "\n",
    "# plot\n",
    "plt.plot(range(1, 30), distortions, marker='o')\n",
    "plt.xlabel('Number of clusters')\n",
    "plt.ylabel('Distortion')\n",
    "plt.show()"
   ]
  },
  {
   "cell_type": "code",
   "execution_count": 8,
   "metadata": {},
   "outputs": [
    {
     "name": "stdout",
     "output_type": "stream",
     "text": [
      "(338, 9)\n"
     ]
    },
    {
     "data": {
      "image/png": "[encoded data removed]",
      "text/plain": [
       "<Figure size 432x288 with 1 Axes>"
      ]
     },
     "metadata": {
      "needs_background": "light"
     },
     "output_type": "display_data"
    }
   ],
   "source": [
    "\n",
    "estimator = KMeans(n_clusters = 4)\n",
    "print(df2_49.shape)\n",
    "#pca = PCA(n_components = 2)\n",
    "reduced_df = TSNE(n_components=2).fit_transform(df2_49)\n",
    "#print(reduced_df)\n",
    "#estimator.fit(df.iloc[:,1:10])\n",
    "estimator.fit(df2_49)\n",
    "#estimator.fit(reduced_df)\n",
    "label_pred = estimator.labels_\n",
    "red_x,red_y=[],[]\n",
    "blue_x,blue_y=[],[]\n",
    "green_x,green_y=[],[]\n",
    "yellow_x, yellow_y = [],[]\n",
    "#ink_x, pink_y = [],[]\n",
    "for i in range(len(reduced_df)):\n",
    "    if label_pred[i] == 0 :\n",
    "        red_x.append(reduced_df[i][0])\n",
    "        red_y.append(reduced_df[i][1])\n",
    "    elif label_pred[i] == 1:\n",
    "        blue_x.append(reduced_df[i][0])\n",
    "        blue_y.append(reduced_df[i][1])\n",
    "    elif label_pred[i] == 2:\n",
    "        yellow_x.append(reduced_df[i][0])\n",
    "        yellow_y.append(reduced_df[i][1])\n",
    "    else:\n",
    "        green_x.append(reduced_df[i][0])\n",
    "        green_y.append(reduced_df[i][1])\n",
    "    '''elif label_pred[i] == 3 and reduced_df[i][0] < 0.4:\n",
    "        green_x.append(reduced_df[i][0])\n",
    "        green_y.append(reduced_df[i][1])\n",
    "    elif label_pred[i] == 4 and reduced_df[i][0] < 0.4:\n",
    "        pink_x.append(reduced_df[i][0])\n",
    "        pink_y.append(reduced_df[i][1])''' \n",
    "\n",
    "x0 = df[label_pred == 0]\n",
    "x1 = df[label_pred == 1]\n",
    "x2 = df[label_pred == 2]\n",
    "x3 = df[label_pred == 3]\n",
    "#x4 = df[label_pred == 4]\n",
    "r = x2[x2.iloc[:, 0] == 'reddit'].shape[0]\n",
    "t = x2.shape[0]\n",
    "#print(x2)\n",
    "#print(r)\n",
    "#print(t)\n",
    "#print(r/t)\n",
    "\n",
    "\n",
    "'''plt.scatter(x0.iloc[:, 0], x0.iloc[:, 1], c=\"red\", marker='o', label='label0')  \n",
    "plt.scatter(x1.iloc[:, 0], x1.iloc[:, 1], c=\"green\", marker='*', label='label1')  \n",
    "plt.scatter(x2.iloc[:, 0], x2.iloc[:, 1], c=\"blue\", marker='+', label='label2') \n",
    "plt.scatter(x3.iloc[:, 0], x3.iloc[:, 1], c=\"yellow\", marker='o', label='label3')\n",
    "plt.scatter(x4.iloc[:, 0], x4.iloc[:, 1], c=\"pink\", marker='*', label='label4')'''\n",
    "plt.scatter(red_x,red_y,c='r',marker='.')\n",
    "plt.scatter(blue_x,blue_y,c='b',marker='.')\n",
    "plt.scatter(green_x,green_y,c='g',marker='.')\n",
    "plt.scatter(yellow_x,yellow_y, c = 'yellow',marker='.')\n",
    "#plt.scatter(pink_x,pink_y,c='pink',marker='.')\n",
    "plt.xlabel('x')  \n",
    "plt.ylabel('y')  \n",
    "#plt.legend(loc=2)  \n",
    "plt.show() "
   ]
  },
  {
   "cell_type": "code",
   "execution_count": null,
   "metadata": {},
   "outputs": [],
   "source": []
  }
 ],
 "metadata": {
  "kernelspec": {
   "display_name": "Python 3",
   "language": "python",
   "name": "python3"
  },
  "language_info": {
   "codemirror_mode": {
    "name": "ipython",
    "version": 3
   },
   "file_extension": ".py",
   "mimetype": "text/x-python",
   "name": "python",
   "nbconvert_exporter": "python",
   "pygments_lexer": "ipython3",
   "version": "3.7.4"
  }
 },
 "nbformat": 4,
 "nbformat_minor": 2
}
